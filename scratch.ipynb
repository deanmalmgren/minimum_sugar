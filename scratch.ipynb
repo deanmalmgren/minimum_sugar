{
 "cells": [
  {
   "cell_type": "code",
   "execution_count": 1,
   "metadata": {
    "collapsed": true
   },
   "outputs": [],
   "source": [
    "import requests\n",
    "import json\n",
    "import os\n",
    "\n",
    "# Load credential data from file\n",
    "with open(\"credentials.json\", \"r\") as f:\n",
    "    credentials = json.load(f)\n",
    "\n",
    "# Load restaurant ids from file\n",
    "with open (\"restaurant_ids.json\", \"r\") as f:\n",
    "    restaurant_ids = json.load(f)"
   ]
  },
  {
   "cell_type": "code",
   "execution_count": 4,
   "metadata": {
    "collapsed": false
   },
   "outputs": [
    {
     "data": {
      "text/plain": [
       "[{u'id': u'513fbc1283aa2dc80c000053', u'name': u\"McDonald's\"},\n",
       " {u'id': u'513fbc1283aa2dc80c00000f', u'name': u\"Wendy's\"},\n",
       " {u'id': u'513fbc1283aa2dc80c000020', u'name': u'Taco Bell'},\n",
       " {u'id': u'513fbc1283aa2dc80c00003a', u'name': u'Qdoba'},\n",
       " {u'id': u'513fbc1283aa2dc80c000002', u'name': u'Chipotle'},\n",
       " {u'id': u'513fbc1283aa2dc80c00003f', u'name': u'Five Guys'}]"
      ]
     },
     "execution_count": 4,
     "metadata": {},
     "output_type": "execute_result"
    }
   ],
   "source": [
    "restaurant_ids"
   ]
  },
  {
   "cell_type": "code",
   "execution_count": 13,
   "metadata": {
    "collapsed": false
   },
   "outputs": [],
   "source": [
    "# Set base query URL\n",
    "query_url = u\"https://api.nutritionix.com/v1_1/search\"\n",
    "\n",
    "payload = dict(credentials)\n",
    "\n",
    "# \"type\" tells Nutritionix to return only restaurants (not food mfrs)\n",
    "payload[\"type\"] = 1\n",
    "payload[\"brand_id\"] = \"513fbc1283aa2dc80c000053\"\n",
    "\n",
    "r = requests.get(query_url, payload)"
   ]
  },
  {
   "cell_type": "code",
   "execution_count": 14,
   "metadata": {
    "collapsed": false
   },
   "outputs": [
    {
     "data": {
      "text/plain": [
       "{u'hits': [{u'_id': u'23cb59492691b7e43efa59ac',\n",
       "   u'_index': u'f762ef22-e660-434f-9071-a10ea6691c27',\n",
       "   u'_score': 1,\n",
       "   u'_type': u'item',\n",
       "   u'fields': {u'brand_name': u\"McDonald's\",\n",
       "    u'item_id': u'23cb59492691b7e43efa59ac',\n",
       "    u'item_name': u'Southern Style Frozen Lemonade (Medium)',\n",
       "    u'nf_serving_size_qty': 1,\n",
       "    u'nf_serving_size_unit': u'serving'}},\n",
       "  {u'_id': u'23cb594928b8f1d86ea1bb29',\n",
       "   u'_index': u'f762ef22-e660-434f-9071-a10ea6691c27',\n",
       "   u'_score': 1,\n",
       "   u'_type': u'item',\n",
       "   u'fields': {u'brand_name': u\"McDonald's\",\n",
       "    u'item_id': u'23cb594928b8f1d86ea1bb29',\n",
       "    u'item_name': u'McCafe White Hot Chocolate (Medium)',\n",
       "    u'nf_serving_size_qty': 1,\n",
       "    u'nf_serving_size_unit': u'serving'}},\n",
       "  {u'_id': u'23cb59493b4ae57c2b4a14c4',\n",
       "   u'_index': u'f762ef22-e660-434f-9071-a10ea6691c27',\n",
       "   u'_score': 1,\n",
       "   u'_type': u'item',\n",
       "   u'fields': {u'brand_name': u\"McDonald's\",\n",
       "    u'item_id': u'23cb59493b4ae57c2b4a14c4',\n",
       "    u'item_name': u'Southern Style Frozen Lemonade (Large)',\n",
       "    u'nf_serving_size_qty': 1,\n",
       "    u'nf_serving_size_unit': u'serving'}},\n",
       "  {u'_id': u'23cb59494a4153911157ea4c',\n",
       "   u'_index': u'f762ef22-e660-434f-9071-a10ea6691c27',\n",
       "   u'_score': 1,\n",
       "   u'_type': u'item',\n",
       "   u'fields': {u'brand_name': u\"McDonald's\",\n",
       "    u'item_id': u'23cb59494a4153911157ea4c',\n",
       "    u'item_name': u'Red Flash (Large)',\n",
       "    u'nf_serving_size_qty': 1,\n",
       "    u'nf_serving_size_unit': u'serving'}},\n",
       "  {u'_id': u'23cb5949952638ce7e4c5b29',\n",
       "   u'_index': u'f762ef22-e660-434f-9071-a10ea6691c27',\n",
       "   u'_score': 1,\n",
       "   u'_type': u'item',\n",
       "   u'fields': {u'brand_name': u\"McDonald's\",\n",
       "    u'item_id': u'23cb5949952638ce7e4c5b29',\n",
       "    u'item_name': u'Southern Style Iced Lemonade (Extra Large)',\n",
       "    u'nf_serving_size_qty': 1,\n",
       "    u'nf_serving_size_unit': u'serving'}},\n",
       "  {u'_id': u'23cb5949b3ea4566e476311f',\n",
       "   u'_index': u'f762ef22-e660-434f-9071-a10ea6691c27',\n",
       "   u'_score': 1,\n",
       "   u'_type': u'item',\n",
       "   u'fields': {u'brand_name': u\"McDonald's\",\n",
       "    u'item_id': u'23cb5949b3ea4566e476311f',\n",
       "    u'item_name': u'Premium Crispy Chicken Deluxe Sandwich',\n",
       "    u'nf_serving_size_qty': 1,\n",
       "    u'nf_serving_size_unit': u'serving'}},\n",
       "  {u'_id': u'23cb5949c0446d93cfe1e2d7',\n",
       "   u'_index': u'f762ef22-e660-434f-9071-a10ea6691c27',\n",
       "   u'_score': 1,\n",
       "   u'_type': u'item',\n",
       "   u'fields': {u'brand_name': u\"McDonald's\",\n",
       "    u'item_id': u'23cb5949c0446d93cfe1e2d7',\n",
       "    u'item_name': u'Iced Classic Lemonade (Medium)',\n",
       "    u'nf_serving_size_qty': 1,\n",
       "    u'nf_serving_size_unit': u'serving'}},\n",
       "  {u'_id': u'23cb5949e2de735b09fc2dd8',\n",
       "   u'_index': u'f762ef22-e660-434f-9071-a10ea6691c27',\n",
       "   u'_score': 1,\n",
       "   u'_type': u'item',\n",
       "   u'fields': {u'brand_name': u\"McDonald's\",\n",
       "    u'item_id': u'23cb5949e2de735b09fc2dd8',\n",
       "    u'item_name': u'Go-Gurt Strawberry Banana Flavored Low Fat Yogurt Tube',\n",
       "    u'nf_serving_size_qty': 1,\n",
       "    u'nf_serving_size_unit': u'serving'}},\n",
       "  {u'_id': u'23cb5949eef0eb1fb81ad5aa',\n",
       "   u'_index': u'f762ef22-e660-434f-9071-a10ea6691c27',\n",
       "   u'_score': 1,\n",
       "   u'_type': u'item',\n",
       "   u'fields': {u'brand_name': u\"McDonald's\",\n",
       "    u'item_id': u'23cb5949eef0eb1fb81ad5aa',\n",
       "    u'item_name': u'Frozen Classic Lemonade (Extra Large)',\n",
       "    u'nf_serving_size_qty': 1,\n",
       "    u'nf_serving_size_unit': u'serving'}},\n",
       "  {u'_id': u'513fc9e73fe3ffd403001097',\n",
       "   u'_index': u'f762ef22-e660-434f-9071-a10ea6691c27',\n",
       "   u'_score': 1,\n",
       "   u'_type': u'item',\n",
       "   u'fields': {u'brand_name': u\"McDonald's\",\n",
       "    u'item_id': u'513fc9e73fe3ffd403001097',\n",
       "    u'item_name': u'Bacon, Egg & Cheese Biscuit (Large Size Biscuit)',\n",
       "    u'nf_serving_size_qty': 1,\n",
       "    u'nf_serving_size_unit': u'serving'}}],\n",
       " u'max_score': 1,\n",
       " u'total_hits': 359}"
      ]
     },
     "execution_count": 14,
     "metadata": {},
     "output_type": "execute_result"
    }
   ],
   "source": [
    "r.json()"
   ]
  },
  {
   "cell_type": "code",
   "execution_count": null,
   "metadata": {
    "collapsed": true
   },
   "outputs": [],
   "source": []
  }
 ],
 "metadata": {
  "kernelspec": {
   "display_name": "Python 2",
   "language": "python",
   "name": "python2"
  },
  "language_info": {
   "codemirror_mode": {
    "name": "ipython",
    "version": 2
   },
   "file_extension": ".py",
   "mimetype": "text/x-python",
   "name": "python",
   "nbconvert_exporter": "python",
   "pygments_lexer": "ipython2",
   "version": "2.7.10"
  }
 },
 "nbformat": 4,
 "nbformat_minor": 0
}
