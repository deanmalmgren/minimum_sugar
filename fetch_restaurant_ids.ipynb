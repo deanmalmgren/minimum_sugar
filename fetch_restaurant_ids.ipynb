{
 "cells": [
  {
   "cell_type": "markdown",
   "metadata": {},
   "source": [
    "# Fetch Restaurant IDs\n",
    "Nutritionix identifies restaurants by a unique number, but from what I can tell they do not list those numbers. This notebook contains code which creates a mapping between the names of restaurants I frequent and Nutritionix's restaurant ID. This mapping is written to a file called `restaurant_ids.json`."
   ]
  },
  {
   "cell_type": "code",
   "execution_count": 1,
   "metadata": {
    "collapsed": true
   },
   "outputs": [],
   "source": [
    "import requests\n",
    "import json\n",
    "import os\n",
    "\n",
    "# Load credential data from file\n",
    "with open(\"credentials.json\", \"r\") as f:\n",
    "    credentials = json.load(f)"
   ]
  },
  {
   "cell_type": "code",
   "execution_count": 23,
   "metadata": {
    "collapsed": false
   },
   "outputs": [],
   "source": [
    "def fetch_restaurant_id(restaurant_name, credentials):\n",
    "    \"\"\"\n",
    "    Fetch Nutritionix restaurant ID for a given restaurant name\n",
    "    \n",
    "    Parameters\n",
    "    ----------\n",
    "    restaurant_name : str\n",
    "    credentials : dict\n",
    "        Contains API credentials \"appID\" and \"appKey\"\n",
    "        \n",
    "    Returns\n",
    "    -------\n",
    "    restaurant_id : dict\n",
    "        Contains fields \"name\" and \"id\"\n",
    "    \"\"\"\n",
    "    # Set base query URL\n",
    "    query_url = u\"https://api.nutritionix.com/v1_1/brand/search\"\n",
    "    \n",
    "    payload = dict(credentials)\n",
    "    payload[\"query\"] = restaurant_name\n",
    "    # \"type\" tells Nutritionix to return only restaurants (not food mfrs)\n",
    "    payload[\"type\"] = 1\n",
    "    # \"limit\" results to a single result, no \"offset\"\n",
    "    payload[\"limit\"] = 1\n",
    "    payload[\"offset\"] = 0\n",
    "    \n",
    "    r = requests.get(query_url, payload)\n",
    "\n",
    "    # Exception should be raised if r.status_code is not 200.\n",
    "    \n",
    "    # Break out the data I want.\n",
    "    # The results are nested in various dicts and lists.\n",
    "    # Consider the result of searching for \"taco bell\" as an example:\n",
    "    #   {u'hits': [{u'_id': u'513fbc1283aa2dc80c000020',\n",
    "    #      u'_index': u'f762ef22-e660-434f-9071-a10ea6691c27',\n",
    "    #      u'_score': 9.773642,\n",
    "    #      u'_type': u'brand',\n",
    "    #      u'fields': {u'_id': u'513fbc1283aa2dc80c000020',\n",
    "    #       u'name': u'Taco Bell',\n",
    "    #       u'type': 1,\n",
    "    #       u'website': None}}],\n",
    "    #    u'max_score': 9.773642,\n",
    "    #    u'total': 12}\n",
    "    #\n",
    "    # After converting Nutritionix's response to a dict, directly extract the \n",
    "    # desired data at the expense of clarity.\n",
    "    dat = r.json()\n",
    "    hit = dat[\"hits\"][0][\"fields\"]\n",
    "    \n",
    "    # Soooo ugly\n",
    "    restaurant_id = {\"name\": hit[\"name\"],\n",
    "                     \"id\": hit[\"_id\"]}\n",
    "    \n",
    "    return restaurant_id    "
   ]
  },
  {
   "cell_type": "code",
   "execution_count": 28,
   "metadata": {
    "collapsed": true
   },
   "outputs": [],
   "source": [
    "restaurant_names = [\"McDonalds\",\n",
    "                    \"Wendy's\",\n",
    "                    \"Taco Bell\",\n",
    "                    \"Qdoba\",\n",
    "                    \"Chipotle\",\n",
    "                    \"Five Guys\",]\n",
    "                    #\"Costco\",]\n",
    "\n",
    "restaurant_ids = [fetch_restaurant_id(name, credentials) for name in restaurant_names]"
   ]
  },
  {
   "cell_type": "code",
   "execution_count": 34,
   "metadata": {
    "collapsed": false
   },
   "outputs": [],
   "source": [
    "with open(\"restaurant_ids.json\", \"w\") as f:\n",
    "    f.write(json.dumps(restaurant_ids, indent=4, separators=(',', ': ')))"
   ]
  },
  {
   "cell_type": "code",
   "execution_count": null,
   "metadata": {
    "collapsed": true
   },
   "outputs": [],
   "source": []
  }
 ],
 "metadata": {
  "kernelspec": {
   "display_name": "Python 2",
   "language": "python",
   "name": "python2"
  },
  "language_info": {
   "codemirror_mode": {
    "name": "ipython",
    "version": 2
   },
   "file_extension": ".py",
   "mimetype": "text/x-python",
   "name": "python",
   "nbconvert_exporter": "python",
   "pygments_lexer": "ipython2",
   "version": "2.7.10"
  }
 },
 "nbformat": 4,
 "nbformat_minor": 0
}
