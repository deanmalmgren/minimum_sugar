{
 "cells": [
  {
   "cell_type": "markdown",
   "metadata": {},
   "source": [
    "# Overview of sugar content of menu items at various restaurants\n",
    "\n",
    "This project fundamentally relies on data from the [Nutritionix API](http://www.nutritionix.com/api). I am very grateful for the use of their data."
   ]
  },
  {
   "cell_type": "code",
   "execution_count": 1,
   "metadata": {
    "collapsed": true
   },
   "outputs": [],
   "source": [
    "import requests\n",
    "import json\n",
    "import os\n",
    "import minimum_sugar\n",
    "\n",
    "# Load credential data from file\n",
    "with open(\"credentials.json\", \"r\") as f:\n",
    "    credentials = json.load(f)\n",
    "    \n",
    "# Load menu data from file\n",
    "with open(\"menu_data.json\", \"r\") as f:\n",
    "    menu_data = json.load(f)"
   ]
  },
  {
   "cell_type": "markdown",
   "metadata": {},
   "source": [
    "## Restaurant IDs\n",
    "Nutritionix identifies restaurants by a unique number, but from what I can tell they do not list those numbers. The code in this section creates a mapping between the names of restaurants I frequent and Nutritionix's restaurant ID."
   ]
  },
  {
   "cell_type": "code",
   "execution_count": 2,
   "metadata": {
    "collapsed": false
   },
   "outputs": [],
   "source": [
    "restaurant_names = [\"McDonalds\",\n",
    "                    \"Wendy's\",\n",
    "                    \"Taco Bell\",\n",
    "                    \"Qdoba\",\n",
    "                    \"Chipotle\",\n",
    "                    \"Five Guys\",]\n",
    "                    #\"Costco\",]\n",
    "\n",
    "restaurant_ids = [minimum_sugar.fetch_restaurant_id(name, credentials) for name in restaurant_names]"
   ]
  },
  {
   "cell_type": "code",
   "execution_count": 3,
   "metadata": {
    "collapsed": true
   },
   "outputs": [],
   "source": [
    "# Save the data to a file for reading at a later date.\n",
    "# with open(\"restaurant_ids.json\", \"w\") as f:\n",
    "#     f.write(json.dumps(restaurant_ids, indent=4, separators=(',', ': ')))"
   ]
  },
  {
   "cell_type": "markdown",
   "metadata": {},
   "source": [
    "## Restaurant menus\n",
    "Download restaurant menu nutrition data."
   ]
  },
  {
   "cell_type": "code",
   "execution_count": 4,
   "metadata": {
    "collapsed": false
   },
   "outputs": [],
   "source": [
    "# Fetch menu data and add to each dict in `restaurant_ids`\n",
    "# for restaurant in restaurant_ids:\n",
    "#     restaurant[\"menu\"] = minimum_sugar.fetch_menu_item_data(restaurant[\"id\"], credentials)"
   ]
  },
  {
   "cell_type": "code",
   "execution_count": 10,
   "metadata": {
    "collapsed": false
   },
   "outputs": [],
   "source": [
    "# Could do some list comprehension here, but I think it code readability would suffer.\n",
    "menu_data = []\n",
    "for restaurant in restaurant_ids:\n",
    "    menu_data.extend(minimum_sugar.fetch_menu_item_data(restaurant[\"id\"], credentials))"
   ]
  },
  {
   "cell_type": "code",
   "execution_count": 20,
   "metadata": {
    "collapsed": false
   },
   "outputs": [],
   "source": [
    "# Write the data to a file for future analysis\n",
    "# with open(\"menu_data.json\", \"w\") as f:\n",
    "#     f.write(json.dumps(menu_data, indent=4, separators=(',', ': ')))"
   ]
  },
  {
   "cell_type": "markdown",
   "metadata": {},
   "source": [
    "## Categorizing menu items\n",
    "It turns out that the menu items of these various restaurants are not categoriezed according to any universal scheme (e.g. beverage, condiment, etc.). Moreover, some restaurants (like McDonald's) list beverages on their menu whereas others (e.g. Chipotle) do not. Beverages really skew the sugar content of the histogram, and the data I really wanted was simply the sugar content of the entree items.\n",
    "\n",
    "I ended up categorizing the menu items partially by hand. Some of the intermediate details can be found in `menu_item_categorization.ipynb`. The goal was to categorize menu items according to the following categories:\n",
    "\n",
    "* beverage\n",
    "* dessert\n",
    "* condiment\n",
    "* side order\n",
    "* entree\n",
    "\n",
    "The overall workflow was to first create a list of `item_name`s from the list of menu item data. The `item_names` list was written to a file (`item_names.dat`) with one `item_name` per line. I started with category \"beverage\" and deleted everything from the `item_names.dat` file that looked like it was a drink. I then used the remainder and the original `item_names` list to create python `set` objects and recover the list of beverage item names. The following code is an example of the process (not exactly what happened, but captures the essence):\n",
    "\n",
    "```python\n",
    "# Remove beverage item names from the `item_names.dat` file by hand.\n",
    "\n",
    "# Bring the result back into memory.\n",
    "with open(\"item_names.dat\", \"r\") as f:\n",
    "    remainder = [line.strip() for line in f]\n",
    "\n",
    "item_names_set = set(item_names)\n",
    "remainder_set = set(remainder)\n",
    "\n",
    "beverage_item_names_set = item_names_set - remainder_set\n",
    "beverage_item_names = list(beverage_item_names_set)\n",
    "beverage_item_names.sort()\n",
    "\n",
    "with open(\"beverage_item_names.json\", \"w\") as f:\n",
    "    f.write(json.dumps(beverage_item_names, indent=4, separators=(',', ': ')))\n",
    "```\n",
    "\n",
    "I repeated this process of elimination to generate lists of menu items according to each category."
   ]
  },
  {
   "cell_type": "markdown",
   "metadata": {
    "collapsed": true
   },
   "source": [
    "## Misc. observations during development\n",
    "This section contains some notes on observations I made during development. I intend to include these observations in the report, but rewritten into the body itself and not this section.\n",
    "\n",
    "First, the legacy/non-fast casual restaurants have a **ton** of menu items. McDonald's has >350 where Chipotle only has like 25. I can't imagine the amout of complexity that number of menu items adds to the management of the company. I also can't see how McDonalds gets rid of this complexity (i.e. sheds menu items) without alienating the customers these items intended to serve. It seems like this amount of complexity is an accretion over many years and is likely a result of their success. It seems eminently plausible that over the years executives at McDonalds thought, \"We are dominating this part of the market which is basically tapped out. In order to experience even more growth, we need to expand into other markets. How do we expand into other markets while leveraging the power of this brand to crush the competition?\"\n",
    "\n",
    "Second, executing this project has made me vaguely aware that some of my development practices may not be suited for data science projects. For example, I think the workflow I am using to perform this analysis may not be the most effective. The workflow is: download all data from the server, then write filtering code to eventually get the data I want. I feel like some incarnation of this workflow is what a seasoned data scientist might do, but I suspect most of the filtering will be done by the server or at the database as opposed to at the level of the data scientists local machine.\n",
    "\n",
    "As of commit [e297afb9](https://github.com/jrsmith3/minimum_sugar/commit/e297afb990153e07a80e8442aedcd4babb6b458b), I switched to a flat data structure. I thought this approach was going to make things easier, but I didn't realize how much easier it made things. I now just consider the menu item data to be a big pile of data, and I let the computer extract what I need based on queries I submit. I suspect this situation is how things are when one has a well-constructed database. Based on this experience, I should learn how to use SQL."
   ]
  },
  {
   "cell_type": "code",
   "execution_count": 3,
   "metadata": {
    "collapsed": false,
    "scrolled": false
   },
   "outputs": [
    {
     "data": {
      "text/plain": [
       "[u'Chips',\n",
       " u'Black Beans',\n",
       " u'Chipotle Vinaigrette',\n",
       " u'Flour Tortilla (burrito)',\n",
       " u'Steak',\n",
       " u'Crispy Taco Shell',\n",
       " u'Red Tomatillo Salsa',\n",
       " u'Fajita Veggies',\n",
       " u'Soft Corn Tortilla',\n",
       " u'Chicken',\n",
       " u'Pinto Beans',\n",
       " u'Flour Tortilla (taco)',\n",
       " u'Cheese',\n",
       " u'Lettuce',\n",
       " u'Cilantro-Lime Rice',\n",
       " u'Brown Rice',\n",
       " u'Tomato Salsa',\n",
       " u'Corn Salsa',\n",
       " u'Sour Cream',\n",
       " u'Green Tomatillo Salsa',\n",
       " u'Sofritas',\n",
       " u'Carnitas',\n",
       " u'Barbacoa',\n",
       " u'Romaine Lettuce (salad)',\n",
       " u'Guacamole']"
      ]
     },
     "execution_count": 3,
     "metadata": {},
     "output_type": "execute_result"
    }
   ],
   "source": [
    "chipotle_menu = minimum_sugar.filter_menu_items(menu_data, \"brand_name\", \"Chipotle\")\n",
    "minimum_sugar.extract_variable(chipotle_menu, \"item_name\")"
   ]
  },
  {
   "cell_type": "code",
   "execution_count": null,
   "metadata": {
    "collapsed": true
   },
   "outputs": [],
   "source": []
  }
 ],
 "metadata": {
  "kernelspec": {
   "display_name": "Python 2",
   "language": "python",
   "name": "python2"
  },
  "language_info": {
   "codemirror_mode": {
    "name": "ipython",
    "version": 2
   },
   "file_extension": ".py",
   "mimetype": "text/x-python",
   "name": "python",
   "nbconvert_exporter": "python",
   "pygments_lexer": "ipython2",
   "version": "2.7.10"
  }
 },
 "nbformat": 4,
 "nbformat_minor": 0
}
