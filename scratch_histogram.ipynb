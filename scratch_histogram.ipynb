{
 "cells": [
  {
   "cell_type": "markdown",
   "metadata": {},
   "source": [
    "# Scratchwork to develop histogram plotting functionality\n",
    "This ipynb is for the development of a function that takes restaurant menu data and returns a histogram."
   ]
  },
  {
   "cell_type": "code",
   "execution_count": 1,
   "metadata": {
    "collapsed": true
   },
   "outputs": [],
   "source": [
    "%matplotlib inline\n",
    "\n",
    "import json\n",
    "import numpy as np\n",
    "import matplotlib.pyplot as plt\n",
    "\n",
    "with open(\"restaurant_menu_data.json\", \"r\") as f:\n",
    "    restaurant_menu_data = json.load(f)"
   ]
  },
  {
   "cell_type": "code",
   "execution_count": 58,
   "metadata": {
    "collapsed": true
   },
   "outputs": [],
   "source": [
    "# Some helper functions\n",
    "# =====================\n",
    "\n",
    "def menu_data_keys(menu_data):\n",
    "    \"\"\"\n",
    "    Helper function returning list of nutrition data keys\n",
    "    \n",
    "    Its a pain to un-nest a menu data dict to determine the exact key for the desired data.\n",
    "    This method returns the list so the user doesn't have to manually un-nest the data.\n",
    "    \n",
    "    Parameters\n",
    "    ----------\n",
    "    menu_data : dict\n",
    "        Restaurant menu data.\n",
    "\n",
    "    Returns\n",
    "    -------\n",
    "    data_keys : list\n",
    "        Keys containing menu data\n",
    "    \"\"\"\n",
    "    keys = menu_data[\"menu\"][0].keys()\n",
    "    \n",
    "    return keys\n",
    "\n",
    "\n",
    "def extract_variable(menu_data, param):\n",
    "    \"\"\"\n",
    "    Extract variable data from menu data of specified parameter\n",
    "\n",
    "    Parameters\n",
    "    ----------\n",
    "    menu_data : dict\n",
    "        Restaurant menu data\n",
    "    param : str\n",
    "        Parameter to extract.\n",
    "        This value should correspond to a key of the menu_data[\"menu\"] dict who's value is numerical.\n",
    "        \n",
    "    Returns\n",
    "    -------\n",
    "    variable : list\n",
    "        Values corresponding to `param`.\n",
    "    \"\"\"\n",
    "    variable = [menu_item[param] for menu_item in menu_data[\"menu\"]]\n",
    "    \n",
    "    return variable\n",
    "\n",
    "\n",
    "def menu_items_max(menu_data, param):\n",
    "    \"\"\"\n",
    "    Subset of menu items with maximum value of specified parameter\n",
    "    \n",
    "    Parameters\n",
    "    ----------\n",
    "    menu_data : dict\n",
    "        Restaurant menu data\n",
    "    param : str\n",
    "        Parameter on which to return maximum.\n",
    "        This value should correspond to a key of the menu_data[\"menu\"] dict who's value is numerical.\n",
    "        \n",
    "    Returns\n",
    "    -------\n",
    "    menu_items : list\n",
    "        List of menu items with maximum value of `param`.\n",
    "        Note that if only one menu item has maximum `param`, this list will be one element long.\n",
    "        On the other hand, there's no guarantee that only a single item has max `param`.\n",
    "    \"\"\"\n",
    "    max_variable = max(extract_variable(menu_data, param))\n",
    "    \n",
    "    menu_items = [menu_item for menu_item in menu_data[\"menu\"] if menu_item[param] == max_variable]\n",
    "    \n",
    "    return menu_items\n",
    "\n",
    "\n",
    "def menu_items_min(menu_data, param):\n",
    "    \"\"\"\n",
    "    Subset of menu items with minimum value of specified parameter\n",
    "    \n",
    "    Parameters\n",
    "    ----------\n",
    "    menu_data : dict\n",
    "        Restaurant menu data\n",
    "    param : str\n",
    "        Parameter on which to return minimum.\n",
    "        This value should correspond to a key of the menu_data[\"menu\"] dict who's value is numerical.\n",
    "        \n",
    "    Returns\n",
    "    -------\n",
    "    menu_items : list\n",
    "        List of menu items with minimum value of `param`.\n",
    "        Note that if only one menu item has minimum `param`, this list will be one element long.\n",
    "        On the other hand, there's no guarantee that only a single item has min `param`.\n",
    "    \"\"\"\n",
    "    min_variable = min(extract_variable(menu_data, param))\n",
    "    \n",
    "    menu_items = [menu_item for menu_item in menu_data[\"menu\"] if menu_item[param] == min_variable]\n",
    "    \n",
    "    return menu_items"
   ]
  },
  {
   "cell_type": "code",
   "execution_count": 3,
   "metadata": {
    "collapsed": true
   },
   "outputs": [],
   "source": [
    "def menu_histogram(menu_data, param, param_name=None):\n",
    "    \"\"\"\n",
    "    Histogram of a specified parameter (e.g. sugar) for a given menu.\n",
    "    \n",
    "    Parameters\n",
    "    ----------\n",
    "    menu_data : dict\n",
    "        Restaurant menu data\n",
    "    param : str\n",
    "        Parameter on which to create the histogram. \n",
    "        This value should correspond to a key of the menu_data[\"menu\"] dict who's value is numerical.\n",
    "    param_name : str, optional\n",
    "        Human-readable name describing `param`.\n",
    "        \n",
    "    Returns\n",
    "    -------\n",
    "    fig : matplotlib.figure.Figure\n",
    "        Figure displaying histogram data\n",
    "        \n",
    "    Notes\n",
    "    -----\n",
    "    Histogram plotting was taken from [unutbu's solution on SO](http://stackoverflow.com/a/5328669).\n",
    "    \"\"\"\n",
    "    variable = extract_variable(menu_data, param)\n",
    "    \n",
    "    hist, bins = np.histogram(variable, bins=20)\n",
    "    center = (bins[:-1] + bins[1:]) / 2\n",
    "    width = 0.7 * (bins[1] - bins[0])\n",
    "    \n",
    "    fig = plt.figure()\n",
    "    plt.bar(center, hist, align=\"center\", width=width)\n",
    "    plt.title(menu_data[\"name\"])\n",
    "    plt.ylabel(\"Number of menu items\")\n",
    "    if param_name:\n",
    "        plt.xlabel(param_name)\n",
    "    else:\n",
    "        plt.xlabel(param)\n",
    "        \n",
    "    return fig"
   ]
  },
  {
   "cell_type": "code",
   "execution_count": 4,
   "metadata": {
    "collapsed": false
   },
   "outputs": [],
   "source": [
    "# for menu_data in restaurant_menu_data:\n",
    "#     fig = menu_histogram(menu_data, \"nf_sugars\", \"Sugar [g]\")\n",
    "#     plt.show()"
   ]
  },
  {
   "cell_type": "code",
   "execution_count": null,
   "metadata": {
    "collapsed": true
   },
   "outputs": [],
   "source": []
  }
 ],
 "metadata": {
  "kernelspec": {
   "display_name": "Python 2",
   "language": "python",
   "name": "python2"
  },
  "language_info": {
   "codemirror_mode": {
    "name": "ipython",
    "version": 2
   },
   "file_extension": ".py",
   "mimetype": "text/x-python",
   "name": "python",
   "nbconvert_exporter": "python",
   "pygments_lexer": "ipython2",
   "version": "2.7.10"
  }
 },
 "nbformat": 4,
 "nbformat_minor": 0
}
