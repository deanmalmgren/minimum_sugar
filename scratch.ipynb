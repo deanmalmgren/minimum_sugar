{
 "cells": [
  {
   "cell_type": "code",
   "execution_count": 1,
   "metadata": {
    "collapsed": true
   },
   "outputs": [],
   "source": [
    "import requests\n",
    "import json\n",
    "import os\n",
    "\n",
    "# Load credential data from file\n",
    "with open(\"credentials.json\", \"r\") as f:\n",
    "    credentials = json.load(f)\n",
    "\n",
    "# Load restaurant ids from file\n",
    "with open (\"restaurant_ids.json\", \"r\") as f:\n",
    "    restaurant_ids = json.load(f)"
   ]
  },
  {
   "cell_type": "code",
   "execution_count": 4,
   "metadata": {
    "collapsed": false
   },
   "outputs": [
    {
     "data": {
      "text/plain": [
       "[{u'id': u'513fbc1283aa2dc80c000053', u'name': u\"McDonald's\"},\n",
       " {u'id': u'513fbc1283aa2dc80c00000f', u'name': u\"Wendy's\"},\n",
       " {u'id': u'513fbc1283aa2dc80c000020', u'name': u'Taco Bell'},\n",
       " {u'id': u'513fbc1283aa2dc80c00003a', u'name': u'Qdoba'},\n",
       " {u'id': u'513fbc1283aa2dc80c000002', u'name': u'Chipotle'},\n",
       " {u'id': u'513fbc1283aa2dc80c00003f', u'name': u'Five Guys'}]"
      ]
     },
     "execution_count": 4,
     "metadata": {},
     "output_type": "execute_result"
    }
   ],
   "source": [
    "restaurant_ids"
   ]
  },
  {
   "cell_type": "code",
   "execution_count": 31,
   "metadata": {
    "collapsed": false
   },
   "outputs": [],
   "source": [
    "# Set base query URL\n",
    "query_url = u\"https://api.nutritionix.com/v1_1/search\"\n",
    "\n",
    "payload = dict(credentials)\n",
    "\n",
    "# \"type\" tells Nutritionix to return only restaurants (not food mfrs)\n",
    "payload[\"type\"] = 1\n",
    "payload[\"brand_id\"] = \"513fbc1283aa2dc80c000053\"\n",
    "payload[\"fields\"] = \"item_id,item_name,nf_ingredient_statement,nf_sugars,nf_calories\"\n",
    "\n",
    "r = requests.get(query_url, payload)"
   ]
  },
  {
   "cell_type": "code",
   "execution_count": 32,
   "metadata": {
    "collapsed": false
   },
   "outputs": [
    {
     "data": {
      "text/plain": [
       "{u'hits': [{u'_id': u'23cb59492691b7e43efa59ac',\n",
       "   u'_index': u'f762ef22-e660-434f-9071-a10ea6691c27',\n",
       "   u'_score': 1,\n",
       "   u'_type': u'item',\n",
       "   u'fields': {u'item_id': u'23cb59492691b7e43efa59ac',\n",
       "    u'item_name': u'Southern Style Frozen Lemonade (Medium)',\n",
       "    u'nf_calories': 280,\n",
       "    u'nf_ingredient_statement': None,\n",
       "    u'nf_serving_size_qty': 1,\n",
       "    u'nf_serving_size_unit': u'serving',\n",
       "    u'nf_sugars': 70}},\n",
       "  {u'_id': u'23cb594928b8f1d86ea1bb29',\n",
       "   u'_index': u'f762ef22-e660-434f-9071-a10ea6691c27',\n",
       "   u'_score': 1,\n",
       "   u'_type': u'item',\n",
       "   u'fields': {u'item_id': u'23cb594928b8f1d86ea1bb29',\n",
       "    u'item_name': u'McCafe White Hot Chocolate (Medium)',\n",
       "    u'nf_calories': 420,\n",
       "    u'nf_ingredient_statement': None,\n",
       "    u'nf_serving_size_qty': 1,\n",
       "    u'nf_serving_size_unit': u'serving',\n",
       "    u'nf_sugars': 57}},\n",
       "  {u'_id': u'23cb59493b4ae57c2b4a14c4',\n",
       "   u'_index': u'f762ef22-e660-434f-9071-a10ea6691c27',\n",
       "   u'_score': 1,\n",
       "   u'_type': u'item',\n",
       "   u'fields': {u'item_id': u'23cb59493b4ae57c2b4a14c4',\n",
       "    u'item_name': u'Southern Style Frozen Lemonade (Large)',\n",
       "    u'nf_calories': 360,\n",
       "    u'nf_ingredient_statement': None,\n",
       "    u'nf_serving_size_qty': 1,\n",
       "    u'nf_serving_size_unit': u'serving',\n",
       "    u'nf_sugars': 87}},\n",
       "  {u'_id': u'23cb59494a4153911157ea4c',\n",
       "   u'_index': u'f762ef22-e660-434f-9071-a10ea6691c27',\n",
       "   u'_score': 1,\n",
       "   u'_type': u'item',\n",
       "   u'fields': {u'item_id': u'23cb59494a4153911157ea4c',\n",
       "    u'item_name': u'Red Flash (Large)',\n",
       "    u'nf_calories': 300,\n",
       "    u'nf_ingredient_statement': None,\n",
       "    u'nf_serving_size_qty': 1,\n",
       "    u'nf_serving_size_unit': u'serving',\n",
       "    u'nf_sugars': 80}},\n",
       "  {u'_id': u'23cb5949952638ce7e4c5b29',\n",
       "   u'_index': u'f762ef22-e660-434f-9071-a10ea6691c27',\n",
       "   u'_score': 1,\n",
       "   u'_type': u'item',\n",
       "   u'fields': {u'item_id': u'23cb5949952638ce7e4c5b29',\n",
       "    u'item_name': u'Southern Style Iced Lemonade (Extra Large)',\n",
       "    u'nf_calories': 350,\n",
       "    u'nf_ingredient_statement': None,\n",
       "    u'nf_serving_size_qty': 1,\n",
       "    u'nf_serving_size_unit': u'serving',\n",
       "    u'nf_sugars': 86}},\n",
       "  {u'_id': u'23cb5949b3ea4566e476311f',\n",
       "   u'_index': u'f762ef22-e660-434f-9071-a10ea6691c27',\n",
       "   u'_score': 1,\n",
       "   u'_type': u'item',\n",
       "   u'fields': {u'item_id': u'23cb5949b3ea4566e476311f',\n",
       "    u'item_name': u'Premium Crispy Chicken Deluxe Sandwich',\n",
       "    u'nf_calories': 530,\n",
       "    u'nf_ingredient_statement': None,\n",
       "    u'nf_serving_size_qty': 1,\n",
       "    u'nf_serving_size_unit': u'serving',\n",
       "    u'nf_sugars': 13}},\n",
       "  {u'_id': u'23cb5949c0446d93cfe1e2d7',\n",
       "   u'_index': u'f762ef22-e660-434f-9071-a10ea6691c27',\n",
       "   u'_score': 1,\n",
       "   u'_type': u'item',\n",
       "   u'fields': {u'item_id': u'23cb5949c0446d93cfe1e2d7',\n",
       "    u'item_name': u'Iced Classic Lemonade (Medium)',\n",
       "    u'nf_calories': 130,\n",
       "    u'nf_ingredient_statement': None,\n",
       "    u'nf_serving_size_qty': 1,\n",
       "    u'nf_serving_size_unit': u'serving',\n",
       "    u'nf_sugars': 28}},\n",
       "  {u'_id': u'23cb5949e2de735b09fc2dd8',\n",
       "   u'_index': u'f762ef22-e660-434f-9071-a10ea6691c27',\n",
       "   u'_score': 1,\n",
       "   u'_type': u'item',\n",
       "   u'fields': {u'item_id': u'23cb5949e2de735b09fc2dd8',\n",
       "    u'item_name': u'Go-Gurt Strawberry Banana Flavored Low Fat Yogurt Tube',\n",
       "    u'nf_calories': 50,\n",
       "    u'nf_ingredient_statement': None,\n",
       "    u'nf_serving_size_qty': 1,\n",
       "    u'nf_serving_size_unit': u'serving',\n",
       "    u'nf_sugars': 6}},\n",
       "  {u'_id': u'23cb5949eef0eb1fb81ad5aa',\n",
       "   u'_index': u'f762ef22-e660-434f-9071-a10ea6691c27',\n",
       "   u'_score': 1,\n",
       "   u'_type': u'item',\n",
       "   u'fields': {u'item_id': u'23cb5949eef0eb1fb81ad5aa',\n",
       "    u'item_name': u'Frozen Classic Lemonade (Extra Large)',\n",
       "    u'nf_calories': 390,\n",
       "    u'nf_ingredient_statement': None,\n",
       "    u'nf_serving_size_qty': 1,\n",
       "    u'nf_serving_size_unit': u'serving',\n",
       "    u'nf_sugars': 89}},\n",
       "  {u'_id': u'513fc9e73fe3ffd403001097',\n",
       "   u'_index': u'f762ef22-e660-434f-9071-a10ea6691c27',\n",
       "   u'_score': 1,\n",
       "   u'_type': u'item',\n",
       "   u'fields': {u'item_id': u'513fc9e73fe3ffd403001097',\n",
       "    u'item_name': u'Bacon, Egg & Cheese Biscuit (Large Size Biscuit)',\n",
       "    u'nf_calories': 520,\n",
       "    u'nf_ingredient_statement': u'Biscuit (Large) Allergens: WHEAT, MILK AND SOY LECITHIN, SOY LECITHIN Ingredients: Enriched Flour (Bleached Wheat Flour, Niacin, Reduced Iron, Thiamin Mononitrate, Riboflavin, Folic Acid), Cultured Nonfat Buttermilk, Vegetable Oil (Palm Oil, Palm Kernel Oil), Water, Leavening (Baking Soda, Sodium Aluminum Phosphate, Monocalcium Phosphate), Contains 2% Or Less: Salt, Sugar, Modified Cellulose, Wheat Protein Isolate, Natural Flavor (Dairy and Vegetable Source), Soy Lecithin. CONTAINS: WHEAT, MILK AND SOY LECITHIN. Prepared with Liquid Margarine: Liquid Soybean Oil and Hydrogenated Cottonseed and Soybean Oils, Water, Partially Hydrogenated Soybean Oil, Salt, Soy Lecithin, Mono and Diglycerides, Sodium Benzoate and Potassium Sorbate (Preservatives), Artificial Flavor, Citric Acid, Vitamin A Palmitate, Beta Carotene (Color). CONTAINS: SOY LECITHIN. Bacon Pork Bellies Cured with Water, Salt, Sugar, Natural Smoke Flavor (Plant Source), Sodium Phosphate, Sodium Erythorbate, Sodium Nitrite. Folded Egg Allergens: EGG, SOY LECITHIN, SOY LECITHIN Pasteurized Whole Eggs, Modified Food Starch, Soybean Oil, Natural Flavors (Plant Source), Sodium Acid Pyrophosphate, Carrageenan, Flavor Enhancer (Salt, Maltodextrin, Natural Flavor [Plant Source], Spices, Herb, Turmeric [Color]), Monosodium Phosphate, Citric Acid, Soy Lecithin. CONTAINS: EGG, SOY LECITHIN. Prepared with Liquid Margarine: Liquid Soybean Oil and Hydrogenated Cottonseed and Soybean Oils, Water, Partially Hydrogenated Soybean Oil, Salt, Soy Lecithin, Mono and Diglycerides, Sodium Benzoate and Potassium Sorbate (Preservatives), Artificial Flavor, Citric Acid, Vitamin A Palmitate, Beta Carotene (Color). CONTAINS: SOY LECITHIN. Pasteurized Process American Cheese Allergens: MILK AND SOY LECITHIN Milk, Cream, Water, Cheese Culture, Sodium Citrate, Contains 2% or Less of: Salt, Citric Acid, Sodium Phosphate, Sorbic Acid (Preservative), Lactic Acid, Acetic Acid, Enzymes, Sodium Pyrophosphate, Natural Flavor (Dairy Source), Color Added, Soy Lecithin (Added for Slice Separation). CONTAINS: MILK AND SOY LECITHIN',\n",
       "    u'nf_serving_size_qty': 1,\n",
       "    u'nf_serving_size_unit': u'serving',\n",
       "    u'nf_sugars': 4}}],\n",
       " u'max_score': 1,\n",
       " u'total_hits': 359}"
      ]
     },
     "execution_count": 32,
     "metadata": {},
     "output_type": "execute_result"
    }
   ],
   "source": [
    "r.json()"
   ]
  },
  {
   "cell_type": "code",
   "execution_count": null,
   "metadata": {
    "collapsed": true
   },
   "outputs": [],
   "source": []
  }
 ],
 "metadata": {
  "kernelspec": {
   "display_name": "Python 2",
   "language": "python",
   "name": "python2"
  },
  "language_info": {
   "codemirror_mode": {
    "name": "ipython",
    "version": 2
   },
   "file_extension": ".py",
   "mimetype": "text/x-python",
   "name": "python",
   "nbconvert_exporter": "python",
   "pygments_lexer": "ipython2",
   "version": "2.7.10"
  }
 },
 "nbformat": 4,
 "nbformat_minor": 0
}
