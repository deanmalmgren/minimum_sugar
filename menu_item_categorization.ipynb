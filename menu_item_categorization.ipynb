{
 "cells": [
  {
   "cell_type": "markdown",
   "metadata": {},
   "source": [
    "# Menu item categorization\n",
    "In this notebook I categorize the menu items by hand with some help from the `minimum_sugar` library."
   ]
  },
  {
   "cell_type": "code",
   "execution_count": 3,
   "metadata": {
    "collapsed": true
   },
   "outputs": [],
   "source": [
    "import json\n",
    "import minimum_sugar\n",
    "\n",
    "with open(\"menu_data.json\", \"r\") as f:\n",
    "    menu_data = json.load(f)"
   ]
  },
  {
   "cell_type": "code",
   "execution_count": 28,
   "metadata": {
    "collapsed": false
   },
   "outputs": [],
   "source": [
    "# Dump all of the `item_name` files to a list.\n",
    "# Sort the list alphabetically.\n",
    "# Write the result to a file, one `item_name` per line.\n",
    "\n",
    "item_names = minimum_sugar.extract_variable(menu_data, \"item_name\")\n",
    "item_names.sort()\n",
    "\n",
    "with open(\"item_names.dat\", \"w\") as f:\n",
    "    f.write(\"\\n\".join(item_names))"
   ]
  },
  {
   "cell_type": "markdown",
   "metadata": {},
   "source": [
    "At this point, I open the `item_names.dat` file and delete, by hand, all of the entries that look like beverages. The procedure is as follows:\n",
    "\n",
    "1. Open `item_names.dat` in my text editor.\n",
    "2. Delete everything that looks like a beverage, save file (`item_names.dat`).\n",
    "3. Run code to return the things I deleted.\n",
    "4. Save these items to a file.\n",
    "5. Give this file the once-over to make sure everything is in order. Delete items I decide aren't actually drinks.\n",
    "6. Find corresponding `item_id`s.\n",
    "7. Save file of `item_id`s."
   ]
  },
  {
   "cell_type": "markdown",
   "metadata": {},
   "source": [
    "## Beverages"
   ]
  },
  {
   "cell_type": "code",
   "execution_count": 37,
   "metadata": {
    "collapsed": true
   },
   "outputs": [],
   "source": [
    "# Load candidate non-beverage file.\n",
    "with open(\"item_names.dat\", \"r\") as f:\n",
    "    non_beverage_item_names = [line.strip() for line in f]"
   ]
  },
  {
   "cell_type": "code",
   "execution_count": 59,
   "metadata": {
    "collapsed": true
   },
   "outputs": [],
   "source": [
    "# I can determine the beverage items by iteratively removing the non-beverage items from the full list of menu items.\n",
    "beverage_items = list(menu_data)\n",
    "\n",
    "for non_beverage_item_name in non_beverage_item_names:\n",
    "    beverage_items = minimum_sugar.filter_menu_items(beverage_items, \"item_name\", non_beverage_item_name, negate=True)\n",
    "    \n",
    "beverage_item_names = minimum_sugar.extract_variable(beverage_items, \"item_name\")\n",
    "beverage_item_names.sort()"
   ]
  },
  {
   "cell_type": "code",
   "execution_count": 61,
   "metadata": {
    "collapsed": false
   },
   "outputs": [],
   "source": [
    "# Write the result to a file\n",
    "with open(\"beverage_item_names.dat\", \"w\") as f:\n",
    "    f.write(\"\\n\".join(beverage_item_names))"
   ]
  },
  {
   "cell_type": "code",
   "execution_count": null,
   "metadata": {
    "collapsed": true
   },
   "outputs": [],
   "source": []
  }
 ],
 "metadata": {
  "kernelspec": {
   "display_name": "Python 2",
   "language": "python",
   "name": "python2"
  },
  "language_info": {
   "codemirror_mode": {
    "name": "ipython",
    "version": 2
   },
   "file_extension": ".py",
   "mimetype": "text/x-python",
   "name": "python",
   "nbconvert_exporter": "python",
   "pygments_lexer": "ipython2",
   "version": "2.7.10"
  }
 },
 "nbformat": 4,
 "nbformat_minor": 0
}
