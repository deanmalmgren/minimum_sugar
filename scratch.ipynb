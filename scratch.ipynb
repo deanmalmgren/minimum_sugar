{
 "cells": [
  {
   "cell_type": "code",
   "execution_count": 74,
   "metadata": {
    "collapsed": true
   },
   "outputs": [],
   "source": [
    "import requests\n",
    "import json\n",
    "import os\n",
    "\n",
    "# Load credential data from file\n",
    "with open(\"credentials.json\", \"r\") as f:\n",
    "    credentials = json.load(f)\n",
    "\n",
    "# Load restaurant ids from file\n",
    "with open (\"restaurant_ids.json\", \"r\") as f:\n",
    "    restaurant_ids = json.load(f)"
   ]
  },
  {
   "cell_type": "code",
   "execution_count": 75,
   "metadata": {
    "collapsed": false
   },
   "outputs": [
    {
     "data": {
      "text/plain": [
       "[{u'id': u'513fbc1283aa2dc80c000053', u'name': u\"McDonald's\"},\n",
       " {u'id': u'513fbc1283aa2dc80c00000f', u'name': u\"Wendy's\"},\n",
       " {u'id': u'513fbc1283aa2dc80c000020', u'name': u'Taco Bell'},\n",
       " {u'id': u'513fbc1283aa2dc80c00003a', u'name': u'Qdoba'},\n",
       " {u'id': u'513fbc1283aa2dc80c000002', u'name': u'Chipotle'},\n",
       " {u'id': u'513fbc1283aa2dc80c00003f', u'name': u'Five Guys'}]"
      ]
     },
     "execution_count": 75,
     "metadata": {},
     "output_type": "execute_result"
    }
   ],
   "source": [
    "restaurant_ids"
   ]
  },
  {
   "cell_type": "code",
   "execution_count": 163,
   "metadata": {
    "collapsed": false
   },
   "outputs": [],
   "source": [
    "def fetch_subset_menu_item_data(restaurant_id, credentials, offset=0):\n",
    "    \"\"\"\n",
    "    Helper function to fetch a subset of a restaurant's menu item data\n",
    "    \n",
    "    Parameters\n",
    "    ----------\n",
    "    restaurant_id : str\n",
    "        Nutritionix unique ID specifying restaurant\n",
    "    credentials : dict\n",
    "        Contains API credentials \"appID\" and \"appKey\"\n",
    "    offset : int, optional\n",
    "        Offset from which to request data\n",
    "        \n",
    "    Returns\n",
    "    -------\n",
    "    menu_item_data : dict\n",
    "        Created from json returned by Nutritionix query\n",
    "    \"\"\"\n",
    "\n",
    "    # Set base query URL\n",
    "    query_url = u\"https://api.nutritionix.com/v1_1/search\"\n",
    "\n",
    "    # Include API credentials in POST request\n",
    "    payload = dict(credentials)\n",
    "    # Use \"filters\" key to specify restaurant by ID\n",
    "    payload[\"filters\"] = {\"brand_id\": restaurant_id}\n",
    "    # Use \"offset\" and \"limit\" to get different subsets of the total data\n",
    "    payload[\"offset\"] = offset\n",
    "    payload[\"limit\"] = 50\n",
    "    # Request all data from database (according to the [master list](https://docs.google.com/a/nutritionix.com/spreadsheet/ccc?key=0AmQ7yz5GxBrvdFhtRUpPdjl3VWk2U0dvZENyUVNrWGc&usp=drive_web#gid=0))\n",
    "    payload[\"fields\"] = [\"brand_name\",\n",
    "                         \"item_name\",\n",
    "                         \"brand_id\",\n",
    "                         \"item_id\",\n",
    "                         \"upc\",\n",
    "                         \"item_type\",\n",
    "                         \"item_description\",\n",
    "                         \"nf_ingredient_statement\",\n",
    "                         \"nf_water_grams\",\n",
    "                         \"nf_calories\",\n",
    "                         \"nf_calories_from_fat\",\n",
    "                         \"nf_total_fat\",\n",
    "                         \"nf_saturated_fat\",\n",
    "                         \"nf_monounsaturated_fat\",\n",
    "                         \"nf_polyunsaturated_fat\",\n",
    "                         \"nf_trans_fatty_acid\",\n",
    "                         \"nf_cholesterol\",\n",
    "                         \"nf_sodium\",\n",
    "                         \"nf_total_carbohydrate\",\n",
    "                         \"nf_dietary_fiber\",\n",
    "                         \"nf_sugars\",\n",
    "                         \"nf_protein\",\n",
    "                         \"nf_vitamin_a_iu\",\n",
    "                         \"nf_vitamin_a_dv\",\n",
    "                         \"nf_vitamin_c_mg\",\n",
    "                         \"nf_vitamin_c_dv\",\n",
    "                         \"nf_calcium_mg\",\n",
    "                         \"nf_calcium_dv\",\n",
    "                         \"nf_iron_mg\",\n",
    "                         \"nf_iron_dv\",\n",
    "                         \"nf_potassium\",\n",
    "                         \"nf_refuse_pct\",\n",
    "                         \"nf_servings_per_container\",\n",
    "                         \"nf_serving_size_qty\",\n",
    "                         \"nf_serving_size_unit\",\n",
    "                         \"nf_serving_weight_grams\",\n",
    "                         \"allergen_contains_milk\",\n",
    "                         \"allergen_contains_eggs\",\n",
    "                         \"allergen_contains_fish\",\n",
    "                         \"allergen_contains_shellfish\",\n",
    "                         \"allergen_contains_tree_nuts\",\n",
    "                         \"allergen_contains_peanuts\",\n",
    "                         \"allergen_contains_wheat\",\n",
    "                         \"allergen_contains_soybeans\",\n",
    "                         \"allergen_contains_gluten\",\n",
    "                         \"images_front_full_url\",\n",
    "                         \"updated_at\",\n",
    "                         \"section_ids\",]\n",
    "    # Make request by sending payload as json\n",
    "    r = requests.post(query_url, json=payload)\n",
    "    \n",
    "    return r.json()"
   ]
  },
  {
   "cell_type": "code",
   "execution_count": 155,
   "metadata": {
    "collapsed": true
   },
   "outputs": [],
   "source": [
    "def fetch_menu_item_data(restaurant_id, credentials):\n",
    "    \"\"\"\n",
    "    Fetch data for all menu items from a specified restaurant\n",
    "\n",
    "    Parameters\n",
    "    ----------\n",
    "    restaurant_id : str\n",
    "        Nutritionix unique ID specifying restaurant\n",
    "    credentials : dict\n",
    "        Contains API credentials \"appID\" and \"appKey\"\n",
    "        \n",
    "    Returns\n",
    "    -------\n",
    "    menu_item_data : list\n",
    "        All menu items and corresponding data\n",
    "    \"\"\"\n",
    "    # Make first request to get some data and see how much data is left\n",
    "    dat = fetch_subset_menu_item_data(restaurant_id, credentials)\n",
    "    \n",
    "    menu_item_data = dat[\"hits\"]\n",
    "    \n",
    "    for indx in range(dat[\"total\"]/50):\n",
    "        offset = 50 * (indx + 1)\n",
    "        dat = fetch_subset_menu_item_data(restaurant_id, credentials, offset=offset)\n",
    "        menu_item_data.extend(dat[\"hits\"])\n",
    "        \n",
    "    return menu_item_data"
   ]
  },
  {
   "cell_type": "code",
   "execution_count": 149,
   "metadata": {
    "collapsed": false
   },
   "outputs": [],
   "source": [
    "# Note McDonalds corresponds to 513fbc1283aa2dc80c000053\n",
    "# Chipotle corresponds to 513fbc1283aa2dc80c000002\n",
    "dat = fetch_subset_menu_item_data(\"513fbc1283aa2dc80c000053\", credentials)"
   ]
  },
  {
   "cell_type": "code",
   "execution_count": 131,
   "metadata": {
    "collapsed": false
   },
   "outputs": [
    {
     "name": "stdout",
     "output_type": "stream",
     "text": [
      "keys: [u'hits', u'total', u'max_score']\n",
      "length: 50\n",
      "total: 359\n"
     ]
    }
   ],
   "source": [
    "print \"keys:\", dat.keys()\n",
    "print \"length:\", len(dat[\"hits\"])\n",
    "print \"total:\", dat[\"total\"]"
   ]
  },
  {
   "cell_type": "code",
   "execution_count": 164,
   "metadata": {
    "collapsed": true
   },
   "outputs": [],
   "source": [
    "# Note McDonalds corresponds to 513fbc1283aa2dc80c000053\n",
    "# Chipotle corresponds to 513fbc1283aa2dc80c000002\n",
    "dat = fetch_menu_item_data(\"513fbc1283aa2dc80c000053\", credentials)"
   ]
  },
  {
   "cell_type": "code",
   "execution_count": 165,
   "metadata": {
    "collapsed": false
   },
   "outputs": [
    {
     "data": {
      "text/plain": [
       "359"
      ]
     },
     "execution_count": 165,
     "metadata": {},
     "output_type": "execute_result"
    }
   ],
   "source": [
    "len(dat)"
   ]
  },
  {
   "cell_type": "code",
   "execution_count": 166,
   "metadata": {
    "collapsed": false
   },
   "outputs": [],
   "source": [
    "with open(\"dump.json\", \"w\") as f:\n",
    "    f.write(json.dumps(dat, indent=4, separators=(',', ': ')))"
   ]
  },
  {
   "cell_type": "code",
   "execution_count": null,
   "metadata": {
    "collapsed": true
   },
   "outputs": [],
   "source": []
  }
 ],
 "metadata": {
  "kernelspec": {
   "display_name": "Python 2",
   "language": "python",
   "name": "python2"
  },
  "language_info": {
   "codemirror_mode": {
    "name": "ipython",
    "version": 2
   },
   "file_extension": ".py",
   "mimetype": "text/x-python",
   "name": "python",
   "nbconvert_exporter": "python",
   "pygments_lexer": "ipython2",
   "version": "2.7.10"
  }
 },
 "nbformat": 4,
 "nbformat_minor": 0
}
