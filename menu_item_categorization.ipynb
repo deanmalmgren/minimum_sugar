{
 "cells": [
  {
   "cell_type": "markdown",
   "metadata": {},
   "source": [
    "# Menu item categorization\n",
    "In this notebook I categorize the menu items by hand with some help from the `minimum_sugar` library. I could write new tools to help with this categorization, but there are only 800 and some items in the list and its ultimately probably going to be quicker to just do this operation by hand.\n",
    "\n",
    "Menu items fall into the following categories:\n",
    "\n",
    "* beverage\n",
    "* dessert\n",
    "* condiment\n",
    "* side order\n",
    "* entree\n",
    "\n",
    "Items end up in these categories according to my own idiosyncratic categorization."
   ]
  },
  {
   "cell_type": "code",
   "execution_count": 1,
   "metadata": {
    "collapsed": true
   },
   "outputs": [],
   "source": [
    "import json\n",
    "import minimum_sugar\n",
    "\n",
    "with open(\"menu_data.json\", \"r\") as f:\n",
    "    menu_data = json.load(f)"
   ]
  },
  {
   "cell_type": "code",
   "execution_count": 2,
   "metadata": {
    "collapsed": false
   },
   "outputs": [],
   "source": [
    "# Dump all of the `item_name` files to a list.\n",
    "# Sort the list alphabetically.\n",
    "# Write the result to a file, one `item_name` per line.\n",
    "\n",
    "item_names = minimum_sugar.extract_variable(menu_data, \"item_name\")\n",
    "item_names.sort()"
   ]
  },
  {
   "cell_type": "code",
   "execution_count": 6,
   "metadata": {
    "collapsed": true
   },
   "outputs": [],
   "source": [
    "with open(\"item_names.dat\", \"w\") as f:\n",
    "    f.write(\"\\n\".join(item_names))"
   ]
  },
  {
   "cell_type": "markdown",
   "metadata": {},
   "source": [
    "## Beverages\n",
    "I created the list contained in `beverage_item_names.dat` by deleting items from the list found in `item_names.dat`. Then I just took the set difference between the two to get the items found in `beverage_item_names.dat`."
   ]
  },
  {
   "cell_type": "code",
   "execution_count": 4,
   "metadata": {
    "collapsed": true
   },
   "outputs": [],
   "source": [
    "# Load file of beverage item names\n",
    "with open(\"beverage_item_names.dat\", \"r\") as f:\n",
    "    beverage_item_names = [line.strip() for line in f]"
   ]
  },
  {
   "cell_type": "code",
   "execution_count": 11,
   "metadata": {
    "collapsed": false
   },
   "outputs": [],
   "source": [
    "# Remove beverages from list of menu item names.\n",
    "# The easiest way to remove these items from the list is to use sets.\n",
    "# Some duplicate item names (e.g. \"hamburger\") will be collapsed, but such\n",
    "# de-duplication won't affect the categorization.\n",
    "item_names_set = set(item_names)\n",
    "beverage_item_names_set = set(beverage_item_names)\n",
    "non_beverage_item_names = list(item_names_set - beverage_item_names_set)\n",
    "non_beverage_item_names.sort()"
   ]
  },
  {
   "cell_type": "code",
   "execution_count": 13,
   "metadata": {
    "collapsed": false
   },
   "outputs": [],
   "source": [
    "# Write the non-beverage item names (de-duplicated) to determine dessert items.\n",
    "\n",
    "with open(\"remainder.dat\", \"w\") as f:\n",
    "    f.write(\"\\n\".join(non_beverage_item_names))"
   ]
  },
  {
   "cell_type": "markdown",
   "metadata": {},
   "source": [
    "## Desserts\n",
    "I updated the file `non_beverage_item_names.dat` by deleting the dessert items. Now I need to save the result to a file using the same method as before."
   ]
  },
  {
   "cell_type": "code",
   "execution_count": 15,
   "metadata": {
    "collapsed": true
   },
   "outputs": [],
   "source": [
    "with open(\"remainder.dat\", \"r\") as f:\n",
    "    non_beverage_non_dessert_item_names = [line.strip() for line in f]"
   ]
  },
  {
   "cell_type": "code",
   "execution_count": 19,
   "metadata": {
    "collapsed": false
   },
   "outputs": [],
   "source": [
    "non_beverage_non_dessert_item_names_set = set(non_beverage_non_dessert_item_names)\n",
    "dessert_item_names = list(item_names_set - beverage_item_names_set - non_beverage_non_dessert_item_names_set)\n",
    "dessert_item_names.sort()"
   ]
  },
  {
   "cell_type": "code",
   "execution_count": 21,
   "metadata": {
    "collapsed": false
   },
   "outputs": [],
   "source": [
    "with open(\"dessert_item_names.dat\", \"w\") as f:\n",
    "    f.write(\"\\n\".join(dessert_item_names))"
   ]
  },
  {
   "cell_type": "code",
   "execution_count": null,
   "metadata": {
    "collapsed": true
   },
   "outputs": [],
   "source": []
  }
 ],
 "metadata": {
  "kernelspec": {
   "display_name": "Python 2",
   "language": "python",
   "name": "python2"
  },
  "language_info": {
   "codemirror_mode": {
    "name": "ipython",
    "version": 2
   },
   "file_extension": ".py",
   "mimetype": "text/x-python",
   "name": "python",
   "nbconvert_exporter": "python",
   "pygments_lexer": "ipython2",
   "version": "2.7.10"
  }
 },
 "nbformat": 4,
 "nbformat_minor": 0
}
