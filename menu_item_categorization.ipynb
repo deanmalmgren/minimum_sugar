{
 "cells": [
  {
   "cell_type": "markdown",
   "metadata": {},
   "source": [
    "# Menu item categorization\n",
    "In this notebook I categorize the menu items by hand with some help from the `minimum_sugar` library. I could write new tools to help with this categorization, but there are only 800 and some items in the list and its ultimately probably going to be quicker to just do this operation by hand.\n",
    "\n",
    "Menu items fall into the following categories:\n",
    "\n",
    "* beverage\n",
    "* dessert\n",
    "* condiment\n",
    "* side order\n",
    "* entree\n",
    "\n",
    "Items end up in these categories according to my own idiosyncratic categorization."
   ]
  },
  {
   "cell_type": "code",
   "execution_count": 5,
   "metadata": {
    "collapsed": true
   },
   "outputs": [],
   "source": [
    "import json\n",
    "import os\n",
    "import minimum_sugar\n",
    "\n",
    "with open(\"menu_data.json\", \"r\") as f:\n",
    "    menu_data = json.load(f)"
   ]
  },
  {
   "cell_type": "code",
   "execution_count": 2,
   "metadata": {
    "collapsed": false
   },
   "outputs": [],
   "source": [
    "# Dump all of the `item_name` files to a list.\n",
    "# Sort the list alphabetically.\n",
    "# Write the result to a file, one `item_name` per line.\n",
    "\n",
    "item_names = minimum_sugar.extract_variable(menu_data, \"item_name\")\n",
    "item_names.sort()"
   ]
  },
  {
   "cell_type": "code",
   "execution_count": 6,
   "metadata": {
    "collapsed": true
   },
   "outputs": [],
   "source": [
    "with open(\"item_names.dat\", \"w\") as f:\n",
    "    f.write(\"\\n\".join(item_names))"
   ]
  },
  {
   "cell_type": "markdown",
   "metadata": {},
   "source": [
    "## Beverages\n",
    "I created the list contained in `beverage_item_names.dat` by deleting items from the list found in `item_names.dat`. Then I just took the set difference between the two to get the items found in `beverage_item_names.dat`."
   ]
  },
  {
   "cell_type": "code",
   "execution_count": 4,
   "metadata": {
    "collapsed": true
   },
   "outputs": [],
   "source": [
    "# Load file of beverage item names\n",
    "with open(\"beverage_item_names.dat\", \"r\") as f:\n",
    "    beverage_item_names = [line.strip() for line in f]"
   ]
  },
  {
   "cell_type": "code",
   "execution_count": 11,
   "metadata": {
    "collapsed": false
   },
   "outputs": [],
   "source": [
    "# Remove beverages from list of menu item names.\n",
    "# The easiest way to remove these items from the list is to use sets.\n",
    "# Some duplicate item names (e.g. \"hamburger\") will be collapsed, but such\n",
    "# de-duplication won't affect the categorization.\n",
    "item_names_set = set(item_names)\n",
    "beverage_item_names_set = set(beverage_item_names)\n",
    "non_beverage_item_names = list(item_names_set - beverage_item_names_set)\n",
    "non_beverage_item_names.sort()"
   ]
  },
  {
   "cell_type": "code",
   "execution_count": 13,
   "metadata": {
    "collapsed": false
   },
   "outputs": [],
   "source": [
    "# Write the non-beverage item names (de-duplicated) to determine dessert items.\n",
    "\n",
    "with open(\"remainder.dat\", \"w\") as f:\n",
    "    f.write(\"\\n\".join(non_beverage_item_names))"
   ]
  },
  {
   "cell_type": "markdown",
   "metadata": {},
   "source": [
    "## Desserts\n",
    "I updated the file `non_beverage_item_names.dat` by deleting the dessert items. Now I need to save the result to a file using the same method as before."
   ]
  },
  {
   "cell_type": "code",
   "execution_count": 15,
   "metadata": {
    "collapsed": true
   },
   "outputs": [],
   "source": [
    "with open(\"remainder.dat\", \"r\") as f:\n",
    "    non_beverage_non_dessert_item_names = [line.strip() for line in f]"
   ]
  },
  {
   "cell_type": "code",
   "execution_count": 19,
   "metadata": {
    "collapsed": false
   },
   "outputs": [],
   "source": [
    "non_beverage_non_dessert_item_names_set = set(non_beverage_non_dessert_item_names)\n",
    "dessert_item_names = list(item_names_set - beverage_item_names_set - non_beverage_non_dessert_item_names_set)\n",
    "dessert_item_names.sort()"
   ]
  },
  {
   "cell_type": "code",
   "execution_count": 21,
   "metadata": {
    "collapsed": false
   },
   "outputs": [],
   "source": [
    "with open(\"dessert_item_names.dat\", \"w\") as f:\n",
    "    f.write(\"\\n\".join(dessert_item_names))"
   ]
  },
  {
   "cell_type": "code",
   "execution_count": 23,
   "metadata": {
    "collapsed": true
   },
   "outputs": [],
   "source": [
    "# Dump the remainder of menu items which don't include beverages or desserts to file.\n",
    "dessert_item_names_set = set(dessert_item_names)\n",
    "remainder = list(item_names_set - beverage_item_names_set - dessert_item_names_set)\n",
    "remainder.sort()\n",
    "\n",
    "with open(\"remainder.dat\", \"w\") as f:\n",
    "    f.write(\"\\n\".join(remainder))"
   ]
  },
  {
   "cell_type": "markdown",
   "metadata": {},
   "source": [
    "## Condiments\n",
    "Delete condiment menu items from the `remainder.dat` file."
   ]
  },
  {
   "cell_type": "code",
   "execution_count": 24,
   "metadata": {
    "collapsed": true
   },
   "outputs": [],
   "source": [
    "# Load what's left of remainder.\n",
    "with open(\"remainder.dat\", \"r\") as f:\n",
    "    remainder = [line.strip() for line in f]"
   ]
  },
  {
   "cell_type": "code",
   "execution_count": 25,
   "metadata": {
    "collapsed": true
   },
   "outputs": [],
   "source": [
    "# Generate list of condiments, write to file.\n",
    "remainder_set = set(remainder)\n",
    "\n",
    "condiment_item_names_set = item_names_set - beverage_item_names_set - dessert_item_names_set - remainder_set\n",
    "condiment_item_names = list(condiment_item_names_set)\n",
    "condiment_item_names.sort()\n",
    "\n",
    "with open(\"condiment_item_names.dat\", \"w\") as f:\n",
    "    f.write(\"\\n\".join(condiment_item_names))"
   ]
  },
  {
   "cell_type": "code",
   "execution_count": 27,
   "metadata": {
    "collapsed": true
   },
   "outputs": [],
   "source": [
    "# Dump the remainder of menu items which don't include beverages, desserts, or condiments to file.\n",
    "remainder_set = item_names_set - beverage_item_names_set - dessert_item_names_set - condiment_item_names_set\n",
    "remainder = list(remainder_set)\n",
    "remainder.sort()\n",
    "\n",
    "with open(\"remainder.dat\", \"w\") as f:\n",
    "    f.write(\"\\n\".join(remainder))"
   ]
  },
  {
   "cell_type": "markdown",
   "metadata": {},
   "source": [
    "## Sides\n",
    "Delete side menu items from the `remainder.dat` file."
   ]
  },
  {
   "cell_type": "code",
   "execution_count": 28,
   "metadata": {
    "collapsed": true
   },
   "outputs": [],
   "source": [
    "# Load what's left of remainder.\n",
    "with open(\"remainder.dat\", \"r\") as f:\n",
    "    remainder = [line.strip() for line in f]"
   ]
  },
  {
   "cell_type": "code",
   "execution_count": 29,
   "metadata": {
    "collapsed": true
   },
   "outputs": [],
   "source": [
    "# Generate list of sides, write to file.\n",
    "remainder_set = set(remainder)\n",
    "\n",
    "side_item_names_set = item_names_set - beverage_item_names_set - dessert_item_names_set - condiment_item_names_set - remainder_set\n",
    "side_item_names = list(side_item_names_set)\n",
    "side_item_names.sort()\n",
    "\n",
    "with open(\"side_item_names.dat\", \"w\") as f:\n",
    "    f.write(\"\\n\".join(side_item_names))"
   ]
  },
  {
   "cell_type": "markdown",
   "metadata": {},
   "source": [
    "## Entrees\n",
    "I'm pretty sure what's left are the entrees."
   ]
  },
  {
   "cell_type": "code",
   "execution_count": 30,
   "metadata": {
    "collapsed": true
   },
   "outputs": [],
   "source": [
    "# Dump the remainder of menu items which don't include beverages, desserts, condiments, or sides to file.\n",
    "entree_item_names_set = item_names_set - beverage_item_names_set - dessert_item_names_set - condiment_item_names_set - side_item_names_set\n",
    "entree_item_names = list(entree_item_names_set)\n",
    "entree_item_names.sort()\n",
    "\n",
    "with open(\"entree_item_names.dat\", \"w\") as f:\n",
    "    f.write(\"\\n\".join(entree_item_names))"
   ]
  },
  {
   "cell_type": "markdown",
   "metadata": {},
   "source": [
    "## Housekeeping\n",
    "I don't want these `.dat` files; I would prefer them to be JSON."
   ]
  },
  {
   "cell_type": "code",
   "execution_count": 8,
   "metadata": {
    "collapsed": false
   },
   "outputs": [
    {
     "ename": "IOError",
     "evalue": "[Errno 2] No such file or directory: 'beverage_item_names.dat'",
     "output_type": "error",
     "traceback": [
      "\u001b[0;31m---------------------------------------------------------------------------\u001b[0m",
      "\u001b[0;31mIOError\u001b[0m                                   Traceback (most recent call last)",
      "\u001b[0;32m<ipython-input-8-2ba500fd2682>\u001b[0m in \u001b[0;36m<module>\u001b[0;34m()\u001b[0m\n\u001b[1;32m      6\u001b[0m \u001b[0;34m\u001b[0m\u001b[0m\n\u001b[1;32m      7\u001b[0m \u001b[0;32mfor\u001b[0m \u001b[0mdata_filename\u001b[0m \u001b[0;32min\u001b[0m \u001b[0mdata_filenames\u001b[0m\u001b[0;34m:\u001b[0m\u001b[0;34m\u001b[0m\u001b[0m\n\u001b[0;32m----> 8\u001b[0;31m     \u001b[0;32mwith\u001b[0m \u001b[0mopen\u001b[0m\u001b[0;34m(\u001b[0m\u001b[0mdata_filename\u001b[0m\u001b[0;34m,\u001b[0m \u001b[0;34m\"r\"\u001b[0m\u001b[0;34m)\u001b[0m \u001b[0;32mas\u001b[0m \u001b[0mf\u001b[0m\u001b[0;34m:\u001b[0m\u001b[0;34m\u001b[0m\u001b[0m\n\u001b[0m\u001b[1;32m      9\u001b[0m         \u001b[0mdata\u001b[0m \u001b[0;34m=\u001b[0m \u001b[0;34m[\u001b[0m\u001b[0mline\u001b[0m\u001b[0;34m.\u001b[0m\u001b[0mstrip\u001b[0m\u001b[0;34m(\u001b[0m\u001b[0;34m)\u001b[0m \u001b[0;32mfor\u001b[0m \u001b[0mline\u001b[0m \u001b[0;32min\u001b[0m \u001b[0mf\u001b[0m\u001b[0;34m]\u001b[0m\u001b[0;34m\u001b[0m\u001b[0m\n\u001b[1;32m     10\u001b[0m \u001b[0;34m\u001b[0m\u001b[0m\n",
      "\u001b[0;31mIOError\u001b[0m: [Errno 2] No such file or directory: 'beverage_item_names.dat'"
     ]
    }
   ],
   "source": [
    "data_filenames = [\"beverage_item_names.dat\",\n",
    "    \"condiment_item_names.dat\",\n",
    "    \"dessert_item_names.dat\",\n",
    "    \"entree_item_names.dat\",\n",
    "    \"side_item_names.dat\",]\n",
    "\n",
    "for data_filename in data_filenames:\n",
    "    with open(data_filename, \"r\") as f:\n",
    "        data = [line.strip() for line in f]\n",
    "        \n",
    "    json_filename = data_filename.replace(\".dat\", \".json\")\n",
    "        \n",
    "    with open(json_filename, \"w\") as f:\n",
    "        f.write(json.dumps(data, indent=4, separators=(',', ': ')))"
   ]
  },
  {
   "cell_type": "code",
   "execution_count": null,
   "metadata": {
    "collapsed": true
   },
   "outputs": [],
   "source": []
  }
 ],
 "metadata": {
  "kernelspec": {
   "display_name": "Python 2",
   "language": "python",
   "name": "python2"
  },
  "language_info": {
   "codemirror_mode": {
    "name": "ipython",
    "version": 2
   },
   "file_extension": ".py",
   "mimetype": "text/x-python",
   "name": "python",
   "nbconvert_exporter": "python",
   "pygments_lexer": "ipython2",
   "version": "2.7.10"
  }
 },
 "nbformat": 4,
 "nbformat_minor": 0
}
